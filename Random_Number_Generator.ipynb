{
  "nbformat": 4,
  "nbformat_minor": 0,
  "metadata": {
    "colab": {
      "provenance": [],
      "authorship_tag": "ABX9TyMC5ULfgBdMfNXmZy21K+SM",
      "include_colab_link": true
    },
    "kernelspec": {
      "name": "python3",
      "display_name": "Python 3"
    },
    "language_info": {
      "name": "python"
    }
  },
  "cells": [
    {
      "cell_type": "markdown",
      "metadata": {
        "id": "view-in-github",
        "colab_type": "text"
      },
      "source": [
        "<a href=\"https://colab.research.google.com/github/FiII04/QLC240_rng/blob/main/Random_Number_Generator.ipynb\" target=\"_parent\"><img src=\"https://colab.research.google.com/assets/colab-badge.svg\" alt=\"Open In Colab\"/></a>"
      ]
    },
    {
      "cell_type": "code",
      "execution_count": 4,
      "metadata": {
        "colab": {
          "base_uri": "https://localhost:8080/"
        },
        "id": "E_7hz9x2yCOj",
        "outputId": "26f5ff54-3dec-4dc8-fbd2-2957331d950a"
      },
      "outputs": [
        {
          "output_type": "stream",
          "name": "stdout",
          "text": [
            "5326\n"
          ]
        }
      ],
      "source": [
        "#this is some code to generate random numbers\n",
        "import random as random\n",
        "random_list=random.sample(range(0,10000),20)\n",
        "\n",
        "#change \"you number\" to a number between 0 and 19\n",
        "x=1\n",
        "print(random_list[x])"
      ]
    },
    {
      "cell_type": "code",
      "source": [
        "names = [\"Ty\", \"Nolan\", \"Filip\", \"Maddie\", \"Anabelle\", \"Zoe\", \"Karoline\"]"
      ],
      "metadata": {
        "id": "o8-VegzKzsWX"
      },
      "execution_count": 8,
      "outputs": []
    },
    {
      "cell_type": "code",
      "source": [
        "import random\n",
        "random.shuffle(names)"
      ],
      "metadata": {
        "id": "e5TPu608z3Rv"
      },
      "execution_count": null,
      "outputs": []
    },
    {
      "cell_type": "code",
      "source": [
        "import random\n",
        "random_list = random.sample(range(0, 100000), 20)\n",
        "name_number_pairs = []\n",
        "for i in range(len(names)):\n",
        "    name_number_pairs.append( (names[i],random_list[i]) )"
      ],
      "metadata": {
        "id": "25_L74Irz0kw"
      },
      "execution_count": 40,
      "outputs": []
    },
    {
      "cell_type": "code",
      "source": [
        "name_number_pairs.sort(key=lambda item: item[1])  # Sort by the second element (number)"
      ],
      "metadata": {
        "id": "J0rPnoZa0qAq"
      },
      "execution_count": 41,
      "outputs": []
    },
    {
      "cell_type": "code",
      "source": [
        "for name, number in name_number_pairs:\n",
        "    print(f\"{name}: {number}\")"
      ],
      "metadata": {
        "colab": {
          "base_uri": "https://localhost:8080/"
        },
        "id": "aLH1-80I0fNr",
        "outputId": "2362e2a9-fec7-4f80-f41a-05e8b436a4dd"
      },
      "execution_count": 42,
      "outputs": [
        {
          "output_type": "stream",
          "name": "stdout",
          "text": [
            "Filip: 32490\n",
            "Nolan: 46627\n",
            "Zoe: 47982\n",
            "Anabelle: 51492\n",
            "Ty: 54546\n",
            "Karoline: 72800\n",
            "Maddie: 81199\n"
          ]
        }
      ]
    }
  ]
}